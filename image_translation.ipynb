{
  "nbformat": 4,
  "nbformat_minor": 0,
  "metadata": {
    "colab": {
      "name": "image_translation.ipynb",
      "version": "0.3.2",
      "provenance": [],
      "collapsed_sections": [],
      "include_colab_link": true
    },
    "kernelspec": {
      "name": "python3",
      "display_name": "Python 3"
    }
  },
  "cells": [
    {
      "cell_type": "markdown",
      "metadata": {
        "id": "view-in-github",
        "colab_type": "text"
      },
      "source": [
        "<a href=\"https://colab.research.google.com/github/amanarora9848/UnderstandingOpenCV/blob/master/image_translation.ipynb\" target=\"_parent\"><img src=\"https://colab.research.google.com/assets/colab-badge.svg\" alt=\"Open In Colab\"/></a>"
      ]
    },
    {
      "metadata": {
        "id": "RgvEqEqRBV2_",
        "colab_type": "text"
      },
      "cell_type": "markdown",
      "source": [
        "Transformations: geometric distortions enacted upon on an image. 2 types:-\n",
        "Affine: It includes scaling, rotation and translation, and upon scaling the sides remain parallel.\n",
        "Non Affine: Collineariaty and incidence is remained, but the sides are not parallel upon transformation. We often correct these using openCV."
      ]
    },
    {
      "metadata": {
        "id": "mc3xQDGiDfRo",
        "colab_type": "code",
        "colab": {}
      },
      "cell_type": "code",
      "source": [
        "import numpy as np\n",
        "import cv2"
      ],
      "execution_count": 0,
      "outputs": []
    },
    {
      "metadata": {
        "id": "o0thbFHPEIED",
        "colab_type": "code",
        "colab": {}
      },
      "cell_type": "code",
      "source": [
        "from google.colab import files\n",
        "uploaded = files.upload()"
      ],
      "execution_count": 0,
      "outputs": []
    },
    {
      "metadata": {
        "id": "ZUeUJ9YmES4j",
        "colab_type": "code",
        "colab": {}
      },
      "cell_type": "code",
      "source": [
        "from google.colab import drive\n",
        "drive.mount('/content/drive')"
      ],
      "execution_count": 0,
      "outputs": []
    },
    {
      "metadata": {
        "id": "G0v5g-B9EC6L",
        "colab_type": "code",
        "colab": {}
      },
      "cell_type": "code",
      "source": [
        "image = cv2.imread('input.jpg')"
      ],
      "execution_count": 0,
      "outputs": []
    },
    {
      "metadata": {
        "id": "UtH19ta2Exms",
        "colab_type": "text"
      },
      "cell_type": "markdown",
      "source": [
        "To store the height and width of the image, whose length and breadth are returned using image.shape[:2]"
      ]
    },
    {
      "metadata": {
        "id": "BLsWj04uExVt",
        "colab_type": "code",
        "colab": {}
      },
      "cell_type": "code",
      "source": [
        "height, width = image.shape[:2]\n",
        "quarter_height, quarter_width = height/4, width/4"
      ],
      "execution_count": 0,
      "outputs": []
    },
    {
      "metadata": {
        "id": "YwNDEMXcDV_R",
        "colab_type": "text"
      },
      "cell_type": "markdown",
      "source": [
        "For translations a translation matrix is requires. Tx and Ty denote the translation in X and y direction respectively. np.float32 returns the result in float32 datatype format."
      ]
    },
    {
      "metadata": {
        "id": "ciMKLzF2BTYd",
        "colab_type": "code",
        "colab": {}
      },
      "cell_type": "code",
      "source": [
        "T = np.float32([[1, 0, quarter_width], [0, 1, quarter_height]])\n",
        "print(T)"
      ],
      "execution_count": 0,
      "outputs": []
    },
    {
      "metadata": {
        "id": "_V7ubVOyFpRt",
        "colab_type": "text"
      },
      "cell_type": "markdown",
      "source": [
        "Now, we use warpAffine (refer Affine short definition written above) to transform the image using the matrix, T."
      ]
    },
    {
      "metadata": {
        "id": "Bse2yxmZFk04",
        "colab_type": "code",
        "colab": {}
      },
      "cell_type": "code",
      "source": [
        "img_translation = cv2.warpAffine(image, T, (width, height))\n",
        "cv2.imshow('Translation', img_translation) # This causes error in google colab, since it tends to crash the same.\n",
        "cv2.waitKey()\n",
        "cv2.destryAllWindows()"
      ],
      "execution_count": 0,
      "outputs": []
    }
  ]
}